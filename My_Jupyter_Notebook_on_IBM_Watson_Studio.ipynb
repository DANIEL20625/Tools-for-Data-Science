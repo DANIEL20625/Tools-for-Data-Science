{
  "nbformat": 4,
  "nbformat_minor": 0,
  "metadata": {
    "colab": {
      "name": "My Jupyter Notebook on IBM Watson Studio.ipynb",
      "provenance": []
    },
    "kernelspec": {
      "name": "python3",
      "display_name": "Python 3"
    },
    "language_info": {
      "name": "python"
    }
  },
  "cells": [
    {
      "cell_type": "markdown",
      "source": [
        "# My Jupyter Notebook on IBM Watson Studio"
      ],
      "metadata": {
        "id": "0OGTgHVt79Dp"
      }
    },
    {
      "cell_type": "markdown",
      "source": [
        "**Daniel ZB_Zhang**"
      ],
      "metadata": {
        "id": "pWUZTDfV8Z0d"
      }
    },
    {
      "cell_type": "markdown",
      "source": [
        "Data science"
      ],
      "metadata": {
        "id": "IS98TZKP8udK"
      }
    },
    {
      "cell_type": "markdown",
      "source": [
        "*I have a passion for using data to draw meaningful conclusions about a company's growth. I majored in computer science, then earned a master's degree in data analytics. *"
      ],
      "metadata": {
        "id": "it394X4b84Mb"
      }
    },
    {
      "cell_type": "markdown",
      "source": [
        "The below should print ‘Hello World’"
      ],
      "metadata": {
        "id": "3KTgKZou9d_G"
      }
    },
    {
      "cell_type": "code",
      "source": [
        "print(\"Hello World!\")"
      ],
      "metadata": {
        "colab": {
          "base_uri": "https://localhost:8080/"
        },
        "id": "ETnh924K9z67",
        "outputId": "303414d5-e13d-445b-d732-597791ecd410"
      },
      "execution_count": null,
      "outputs": [
        {
          "output_type": "stream",
          "name": "stdout",
          "text": [
            "Hello World!\n"
          ]
        }
      ]
    }
  ]
}